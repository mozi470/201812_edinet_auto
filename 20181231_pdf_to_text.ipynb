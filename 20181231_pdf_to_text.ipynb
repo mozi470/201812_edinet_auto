{
 "cells": [
  {
   "cell_type": "code",
   "execution_count": 56,
   "metadata": {},
   "outputs": [],
   "source": [
    "from pdfminer.pdfinterp import PDFResourceManager, PDFPageInterpreter\n",
    "from pdfminer.converter import TextConverter\n",
    "from pdfminer.layout import LAParams\n",
    "from pdfminer.pdfpage import PDFPage\n",
    "from io import StringIO\n",
    "import os\n",
    "import re\n",
    "\n",
    "from pdfminer.pdfparser import PDFParser\n",
    "from pdfminer.pdfdocument import PDFDocument\n",
    "from pdfminer.pdfpage import PDFPage\n",
    "from pdfminer.pdfpage import PDFTextExtractionNotAllowed\n",
    "from pdfminer.pdfinterp import PDFResourceManager\n",
    "from pdfminer.pdfinterp import PDFPageInterpreter\n",
    "from pdfminer.pdfdevice import PDFDevice"
   ]
  },
  {
   "cell_type": "code",
   "execution_count": 33,
   "metadata": {
    "scrolled": true
   },
   "outputs": [
    {
     "name": "stdout",
     "output_type": "stream",
     "text": [
      "/Users/s.takayanagi/Documents/201812_edinet_auto\n"
     ]
    }
   ],
   "source": [
    "cd 201812_edinet_auto/"
   ]
  },
  {
   "cell_type": "code",
   "execution_count": 51,
   "metadata": {},
   "outputs": [
    {
     "name": "stdout",
     "output_type": "stream",
     "text": [
      "/Users/s.takayanagi/Documents/201812_edinet_auto\n"
     ]
    }
   ],
   "source": [
    "cd .."
   ]
  },
  {
   "cell_type": "code",
   "execution_count": 52,
   "metadata": {},
   "outputs": [],
   "source": [
    "import glob\n",
    "os.chdir('pdf/')\n",
    "dir_name = glob.glob(\"*\")"
   ]
  },
  {
   "cell_type": "code",
   "execution_count": 53,
   "metadata": {},
   "outputs": [],
   "source": [
    "def convert_pdf_to_txt(path): # 引数にはPDFファイルパスを指定\n",
    "    rsrcmgr = PDFResourceManager()\n",
    "    retstr = StringIO()\n",
    "    codec = 'utf-8'\n",
    "    laparams = LAParams()\n",
    "    laparams.detect_vertical = True # Trueにすることで綺麗にテキストを抽出できる\n",
    "    device = TextConverter(rsrcmgr, retstr, codec=codec, laparams=laparams)\n",
    "    fp = open(path, 'rb')\n",
    "    interpreter = PDFPageInterpreter(rsrcmgr, device)\n",
    "    maxpages = 0\n",
    "    caching = True\n",
    "    pagenos=set()\n",
    "    fstr = ''\n",
    "    for page in PDFPage.get_pages(fp, pagenos, maxpages=maxpages,caching=caching, check_extractable=True):\n",
    "        interpreter.process_page(page)\n",
    "\n",
    "        str = retstr.getvalue()\n",
    "        fstr += str\n",
    "\n",
    "    fp.close()\n",
    "    device.close()\n",
    "    retstr.close()\n",
    "    return fstr"
   ]
  },
  {
   "cell_type": "code",
   "execution_count": 92,
   "metadata": {},
   "outputs": [],
   "source": [
    "count = 0\n",
    "for i in range(len(dir_name)):\n",
    "    os.mkdir('../pdf_/'+dir_name[i])\n",
    "    os.chdir(dir_name[i])\n",
    "    pdf_name = glob.glob(\"*\")\n",
    "    \n",
    "    \n",
    "    import pikepdf\n",
    "    for j in range(len(pdf_name)):\n",
    "        pdf = pikepdf.open(pdf_name[j])\n",
    "        pdf.save('../../pdf_/'+dir_name[i]+'/'+dir_name[i] + '_'+str(j)+'.pdf')\n",
    "    os.chdir('..')\n",
    "os.chdir('..')"
   ]
  },
  {
   "cell_type": "code",
   "execution_count": 95,
   "metadata": {},
   "outputs": [
    {
     "name": "stdout",
     "output_type": "stream",
     "text": [
      "20181228_get_code.ipynb     code.csv\r\n",
      "20181230_get_pdf.ipynb      code_1.csv\r\n",
      "20181230_get_url.ipynb      code_1_url.csv\r\n",
      "20181231_pdf_to_text.ipynb  \u001b[34mpdf\u001b[m\u001b[m/\r\n",
      "README.md                   \u001b[34mpdf_\u001b[m\u001b[m/\r\n"
     ]
    }
   ],
   "source": []
  },
  {
   "cell_type": "markdown",
   "metadata": {},
   "source": [
    "## pdf to text"
   ]
  },
  {
   "cell_type": "code",
   "execution_count": 96,
   "metadata": {},
   "outputs": [
    {
     "name": "stdout",
     "output_type": "stream",
     "text": [
      "8\n"
     ]
    }
   ],
   "source": [
    "import glob\n",
    "os.chdir('pdf_/')\n",
    "name = glob.glob(\"*\")\n",
    "print(len(name))\n",
    "os.chdir('..')\n",
    "os.chdir('..')"
   ]
  },
  {
   "cell_type": "code",
   "execution_count": 134,
   "metadata": {},
   "outputs": [],
   "source": [
    "for i in range(len(dir_name)):\n",
    "    os.mkdir('txt_/'+dir_name[i])\n",
    "    os.chdir('pdf_/'+dir_name[i])\n",
    "    pdf_name = glob.glob(\"*\")\n",
    "    os.chdir('..')\n",
    "    os.chdir('..')\n",
    "    \n",
    "    \n",
    "    import pikepdf\n",
    "    for j in range(len(pdf_name)):\n",
    "        input_path = 'pdf_/' + dir_name[i] + '/' + pdf_name[j]\n",
    "        #pdf to text\n",
    "        with StringIO() as output:\n",
    "            device = TextConverter(rsrcmgr, output, codec=codec, laparams=params)\n",
    "            with open(input_path, 'rb') as input:\n",
    "                interpreter = PDFPageInterpreter(rsrcmgr, device)\n",
    "                for page in PDFPage.get_pages(input):\n",
    "                    interpreter.process_page(page)\n",
    "                    # 確認用\n",
    "                    #print(output.getvalue())\n",
    "                    text = output.getvalue()\n",
    "                    # txtで書き込み\n",
    "                    path = 'txt_/' + dir_name[i] + '/' + dir_name[i] + '_' + str(j) + '.txt'\n",
    "                    with open(path, mode='w') as f:\n",
    "                        f.write(text)\n",
    "            device.close()"
   ]
  },
  {
   "cell_type": "code",
   "execution_count": 131,
   "metadata": {},
   "outputs": [
    {
     "name": "stdout",
     "output_type": "stream",
     "text": [
      "20181228_get_code.ipynb     code.csv\r\n",
      "20181230_get_pdf.ipynb      code_1.csv\r\n",
      "20181230_get_url.ipynb      code_1_url.csv\r\n",
      "20181231_pdf_to_text.ipynb  \u001b[34mpdf\u001b[m\u001b[m/\r\n",
      "20181231_txt_to_data.ipynb  \u001b[34mpdf_\u001b[m\u001b[m/\r\n",
      "README.md                   \u001b[34mtxt_\u001b[m\u001b[m/\r\n"
     ]
    }
   ],
   "source": [
    "ls"
   ]
  },
  {
   "cell_type": "code",
   "execution_count": null,
   "metadata": {},
   "outputs": [],
   "source": []
  }
 ],
 "metadata": {
  "kernelspec": {
   "display_name": "Python 3",
   "language": "python",
   "name": "python3"
  },
  "language_info": {
   "codemirror_mode": {
    "name": "ipython",
    "version": 3
   },
   "file_extension": ".py",
   "mimetype": "text/x-python",
   "name": "python",
   "nbconvert_exporter": "python",
   "pygments_lexer": "ipython3",
   "version": "3.6.0"
  }
 },
 "nbformat": 4,
 "nbformat_minor": 2
}
