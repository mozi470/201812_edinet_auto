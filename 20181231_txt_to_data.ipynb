{
 "cells": [
  {
   "cell_type": "code",
   "execution_count": 2,
   "metadata": {},
   "outputs": [],
   "source": [
    "from pdfminer.pdfinterp import PDFResourceManager, PDFPageInterpreter\n",
    "from pdfminer.converter import TextConverter\n",
    "from pdfminer.layout import LAParams\n",
    "from pdfminer.pdfpage import PDFPage\n",
    "from io import StringIO\n",
    "import os\n",
    "import re"
   ]
  },
  {
   "cell_type": "code",
   "execution_count": 19,
   "metadata": {},
   "outputs": [
    {
     "name": "stdout",
     "output_type": "stream",
     "text": [
      "8\n"
     ]
    }
   ],
   "source": [
    "import glob\n",
    "os.chdir('txt_')\n",
    "name_txt_dir = glob.glob(\"*\")\n",
    "print(len(name))\n",
    "os.chdir('..')"
   ]
  },
  {
   "cell_type": "code",
   "execution_count": 22,
   "metadata": {},
   "outputs": [
    {
     "name": "stdout",
     "output_type": "stream",
     "text": [
      "['E00004_カネコ種苗株式会社_0.txt']\n",
      "['E00011_住友林業株式会社_1.txt', 'E00011_住友林業株式会社_0.txt']\n",
      "['E00012_株式会社_極洋_0.txt']\n",
      "['E00010_株式会社ホーブ_0.txt']\n",
      "['E00014_日本水産株式会社_0.txt']\n",
      "['E00009_株式会社アクシーズ_0.txt']\n",
      "['E00006_株式会社_サカタのタネ_0.txt']\n",
      "['E00008_ホクト株式会社_0.txt', 'E00008_ホクト株式会社_1.txt', 'E00008_ホクト株式会社_3.txt', 'E00008_ホクト株式会社_2.txt']\n"
     ]
    }
   ],
   "source": [
    "# dir\n",
    "for i in range(len(name_txt_dir)):\n",
    "    path = 'txt_/' + str(name_txt_dir[i]) \n",
    "    os.chdir(path)\n",
    "    # pdf\n",
    "    name_txt = glob.glob(\"*\")\n",
    "    print(name_txt)\n",
    "    \n",
    "    # 文字列を解析して各業績・財務指標を可視化\n",
    "    \n",
    "    \n",
    "    \n",
    "    # もどのディレクトリに戻る\n",
    "    os.chdir('..')\n",
    "    os.chdir('..')\n",
    "#for j in range(len(name_txt)):\n",
    "#    path = 'txt/' + str(name_txt[j])\n",
    "#    f = open(path, 'r')\n",
    "#    text = f.read()\n",
    "#    print(text)"
   ]
  },
  {
   "cell_type": "code",
   "execution_count": 23,
   "metadata": {},
   "outputs": [
    {
     "name": "stdout",
     "output_type": "stream",
     "text": [
      "20181228_get_code.ipynb     code.csv\r\n",
      "20181230_get_pdf.ipynb      code_1.csv\r\n",
      "20181230_get_url.ipynb      code_1_url.csv\r\n",
      "20181231_pdf_to_text.ipynb  \u001b[34mpdf\u001b[m\u001b[m/\r\n",
      "20181231_txt_to_data.ipynb  \u001b[34mpdf_\u001b[m\u001b[m/\r\n",
      "README.md                   \u001b[34mtxt_\u001b[m\u001b[m/\r\n"
     ]
    }
   ],
   "source": [
    "ls"
   ]
  },
  {
   "cell_type": "markdown",
   "metadata": {},
   "source": [
    "kjhj"
   ]
  },
  {
   "cell_type": "code",
   "execution_count": null,
   "metadata": {},
   "outputs": [],
   "source": []
  }
 ],
 "metadata": {
  "kernelspec": {
   "display_name": "Python 3",
   "language": "python",
   "name": "python3"
  },
  "language_info": {
   "codemirror_mode": {
    "name": "ipython",
    "version": 3
   },
   "file_extension": ".py",
   "mimetype": "text/x-python",
   "name": "python",
   "nbconvert_exporter": "python",
   "pygments_lexer": "ipython3",
   "version": "3.6.0"
  }
 },
 "nbformat": 4,
 "nbformat_minor": 2
}
