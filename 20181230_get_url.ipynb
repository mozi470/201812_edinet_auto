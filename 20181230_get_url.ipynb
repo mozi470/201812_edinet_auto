{
 "cells": [
  {
   "cell_type": "code",
   "execution_count": 6,
   "metadata": {},
   "outputs": [],
   "source": [
    "import pandas as pd\n",
    "import time\n",
    "from selenium import webdriver"
   ]
  },
  {
   "cell_type": "code",
   "execution_count": 42,
   "metadata": {},
   "outputs": [],
   "source": [
    "df = pd.read_csv(\"code_1.csv\")"
   ]
  },
  {
   "cell_type": "code",
   "execution_count": 49,
   "metadata": {},
   "outputs": [
    {
     "data": {
      "text/html": [
       "<div>\n",
       "<style scoped>\n",
       "    .dataframe tbody tr th:only-of-type {\n",
       "        vertical-align: middle;\n",
       "    }\n",
       "\n",
       "    .dataframe tbody tr th {\n",
       "        vertical-align: top;\n",
       "    }\n",
       "\n",
       "    .dataframe thead th {\n",
       "        text-align: right;\n",
       "    }\n",
       "</style>\n",
       "<table border=\"1\" class=\"dataframe\">\n",
       "  <thead>\n",
       "    <tr style=\"text-align: right;\">\n",
       "      <th></th>\n",
       "      <th>url</th>\n",
       "      <th>code</th>\n",
       "      <th>提出者種別</th>\n",
       "      <th>上場区分</th>\n",
       "      <th>連結の有無</th>\n",
       "      <th>資本金</th>\n",
       "      <th>決算日</th>\n",
       "      <th>name</th>\n",
       "      <th>提出者名（英字）</th>\n",
       "      <th>提出者名（ヨミ）</th>\n",
       "      <th>所在地</th>\n",
       "      <th>提出者業種</th>\n",
       "      <th>証券コード</th>\n",
       "      <th>提出者法人番号</th>\n",
       "    </tr>\n",
       "  </thead>\n",
       "  <tbody>\n",
       "    <tr>\n",
       "      <th>0</th>\n",
       "      <td>https://disclosure.edinet-fsa.go.jp/E01EW/BLMa...</td>\n",
       "      <td>E00004</td>\n",
       "      <td>内国法人・組合</td>\n",
       "      <td>上場</td>\n",
       "      <td>有</td>\n",
       "      <td>1491.0</td>\n",
       "      <td>5月31日</td>\n",
       "      <td>カネコ種苗株式会社</td>\n",
       "      <td>KANEKO SEEDS CO., LTD.</td>\n",
       "      <td>カネコシュビョウカブシキガイシャ</td>\n",
       "      <td>前橋市古市町一丁目５０番地１２</td>\n",
       "      <td>水産・農林業</td>\n",
       "      <td>13760.0</td>\n",
       "      <td>5.070001e+12</td>\n",
       "    </tr>\n",
       "    <tr>\n",
       "      <th>1</th>\n",
       "      <td>https://disclosure.edinet-fsa.go.jp/E01EW/BLMa...</td>\n",
       "      <td>E00006</td>\n",
       "      <td>内国法人・組合</td>\n",
       "      <td>上場</td>\n",
       "      <td>有</td>\n",
       "      <td>13500.0</td>\n",
       "      <td>5月31日</td>\n",
       "      <td>株式会社　サカタのタネ</td>\n",
       "      <td>SAKATA SEED CORPORATION</td>\n",
       "      <td>カブシキガイシャ　サカタノタネ</td>\n",
       "      <td>横浜市都筑区仲町台２－７－１</td>\n",
       "      <td>水産・農林業</td>\n",
       "      <td>13770.0</td>\n",
       "      <td>6.020001e+12</td>\n",
       "    </tr>\n",
       "    <tr>\n",
       "      <th>2</th>\n",
       "      <td>https://disclosure.edinet-fsa.go.jp/E01EW/BLMa...</td>\n",
       "      <td>E00007</td>\n",
       "      <td>内国法人・組合</td>\n",
       "      <td>非上場</td>\n",
       "      <td>有</td>\n",
       "      <td>1605.0</td>\n",
       "      <td>3月31日</td>\n",
       "      <td>株式会社雪国まいたけ</td>\n",
       "      <td>YUKIGUNI MAITAKE CO.,LTD</td>\n",
       "      <td>カブシキガイシャユキグニマイタケ</td>\n",
       "      <td>南魚沼市余川８９番地</td>\n",
       "      <td>水産・農林業</td>\n",
       "      <td>NaN</td>\n",
       "      <td>3.010001e+12</td>\n",
       "    </tr>\n",
       "    <tr>\n",
       "      <th>3</th>\n",
       "      <td>https://disclosure.edinet-fsa.go.jp/E01EW/BLMa...</td>\n",
       "      <td>E00008</td>\n",
       "      <td>内国法人・組合</td>\n",
       "      <td>上場</td>\n",
       "      <td>有</td>\n",
       "      <td>5500.0</td>\n",
       "      <td>3月31日</td>\n",
       "      <td>ホクト株式会社</td>\n",
       "      <td>HOKUTO CORPORATION</td>\n",
       "      <td>ホクトカブシキガイシャ</td>\n",
       "      <td>長野市南堀１３８番地１</td>\n",
       "      <td>水産・農林業</td>\n",
       "      <td>13790.0</td>\n",
       "      <td>6.100001e+12</td>\n",
       "    </tr>\n",
       "    <tr>\n",
       "      <th>4</th>\n",
       "      <td>https://disclosure.edinet-fsa.go.jp/E01EW/BLMa...</td>\n",
       "      <td>E00009</td>\n",
       "      <td>内国法人・組合</td>\n",
       "      <td>上場</td>\n",
       "      <td>有</td>\n",
       "      <td>452.0</td>\n",
       "      <td>6月30日</td>\n",
       "      <td>株式会社アクシーズ</td>\n",
       "      <td>AXYZ Co., Ltd</td>\n",
       "      <td>カブシキガイシャアクシーズ</td>\n",
       "      <td>鹿児島市草牟田二丁目１番８号</td>\n",
       "      <td>水産・農林業</td>\n",
       "      <td>13810.0</td>\n",
       "      <td>5.340001e+12</td>\n",
       "    </tr>\n",
       "  </tbody>\n",
       "</table>\n",
       "</div>"
      ],
      "text/plain": [
       "                                                 url    code    提出者種別 上場区分  \\\n",
       "0  https://disclosure.edinet-fsa.go.jp/E01EW/BLMa...  E00004  内国法人・組合   上場   \n",
       "1  https://disclosure.edinet-fsa.go.jp/E01EW/BLMa...  E00006  内国法人・組合   上場   \n",
       "2  https://disclosure.edinet-fsa.go.jp/E01EW/BLMa...  E00007  内国法人・組合  非上場   \n",
       "3  https://disclosure.edinet-fsa.go.jp/E01EW/BLMa...  E00008  内国法人・組合   上場   \n",
       "4  https://disclosure.edinet-fsa.go.jp/E01EW/BLMa...  E00009  内国法人・組合   上場   \n",
       "\n",
       "  連結の有無      資本金    決算日         name                  提出者名（英字）  \\\n",
       "0     有   1491.0  5月31日    カネコ種苗株式会社    KANEKO SEEDS CO., LTD.   \n",
       "1     有  13500.0  5月31日  株式会社　サカタのタネ   SAKATA SEED CORPORATION   \n",
       "2     有   1605.0  3月31日   株式会社雪国まいたけ  YUKIGUNI MAITAKE CO.,LTD   \n",
       "3     有   5500.0  3月31日      ホクト株式会社        HOKUTO CORPORATION   \n",
       "4     有    452.0  6月30日    株式会社アクシーズ             AXYZ Co., Ltd   \n",
       "\n",
       "           提出者名（ヨミ）              所在地   提出者業種    証券コード       提出者法人番号  \n",
       "0  カネコシュビョウカブシキガイシャ  前橋市古市町一丁目５０番地１２  水産・農林業  13760.0  5.070001e+12  \n",
       "1   カブシキガイシャ　サカタノタネ   横浜市都筑区仲町台２－７－１  水産・農林業  13770.0  6.020001e+12  \n",
       "2  カブシキガイシャユキグニマイタケ       南魚沼市余川８９番地  水産・農林業      NaN  3.010001e+12  \n",
       "3       ホクトカブシキガイシャ      長野市南堀１３８番地１  水産・農林業  13790.0  6.100001e+12  \n",
       "4     カブシキガイシャアクシーズ   鹿児島市草牟田二丁目１番８号  水産・農林業  13810.0  5.340001e+12  "
      ]
     },
     "execution_count": 49,
     "metadata": {},
     "output_type": "execute_result"
    }
   ],
   "source": [
    "df = df.rename(columns={'Unnamed: 0': 'url'})\n",
    "df['url'].astype(str)\n",
    "df.head()"
   ]
  },
  {
   "cell_type": "code",
   "execution_count": 31,
   "metadata": {},
   "outputs": [],
   "source": [
    "import time\n",
    "from selenium import webdriver\n",
    "\n",
    "driver = webdriver.Chrome('/Users/s.takayanagi/Downloads/chromedriver')  # Optional argument, if not specified will search path.\n",
    "driver.get('https://disclosure.edinet-fsa.go.jp/E01EW/BLMainController.jsp?uji.verb=W0EZA230CXP002010BLogic&uji.bean=ee.bean.parent.EECommonSearchBean&PID=currentPage&TID=W1E63020&SESSIONKEY=1546145154960&stype=0&dcdSelect=&hcdSelect=&ycdSelect=&kbn=1&lgKbn=2&pkbn=0&skbn=1&dskb=&askb=&dflg=0&iflg=0&preId=1&chr=&hbn=true&spf5=1&sec=&scc=&shb=&snm=&spf1=1&spf2=1&iec=&icc=&inm=&spf3=1&fdc=&fnm=&spf4=1&cal=1&era=H&yer=&mon=&psr=1&pid=4');\n",
    "time.sleep(5) # Let the user actually see something!"
   ]
  },
  {
   "cell_type": "markdown",
   "metadata": {},
   "source": [
    "### id"
   ]
  },
  {
   "cell_type": "code",
   "execution_count": null,
   "metadata": {},
   "outputs": [
    {
     "name": "stdout",
     "output_type": "stream",
     "text": [
      "0\n"
     ]
    },
    {
     "name": "stderr",
     "output_type": "stream",
     "text": [
      "/Users/s.takayanagi/Documents/env/lib/python3.6/site-packages/ipykernel_launcher.py:25: SettingWithCopyWarning: \n",
      "A value is trying to be set on a copy of a slice from a DataFrame\n",
      "\n",
      "See the caveats in the documentation: http://pandas.pydata.org/pandas-docs/stable/indexing.html#indexing-view-versus-copy\n"
     ]
    },
    {
     "name": "stdout",
     "output_type": "stream",
     "text": [
      "1\n",
      "2\n",
      "3\n",
      "4\n",
      "5\n",
      "6\n",
      "7\n",
      "8\n",
      "9\n",
      "10\n",
      "11\n"
     ]
    }
   ],
   "source": [
    "for i in range(1000):\n",
    "    driver.get('https://disclosure.edinet-fsa.go.jp/E01EW/BLMainController.jsp?uji.verb=W0EZA230CXP002010BLogic&uji.bean=ee.bean.parent.EECommonSearchBean&PID=currentPage&TID=W1E63020&SESSIONKEY=1546145154960&stype=0&dcdSelect=&hcdSelect=&ycdSelect=&kbn=1&lgKbn=2&pkbn=0&skbn=1&dskb=&askb=&dflg=0&iflg=0&preId=1&chr=&hbn=true&spf5=1&sec=&scc=&shb=&snm=&spf1=1&spf2=1&iec=&icc=&inm=&spf3=1&fdc=&fnm=&spf4=1&cal=1&era=H&yer=&mon=&psr=1&pid=4');\n",
    "    time.sleep(2) # Let the user actually see something!\n",
    "\n",
    "    code = df[\"code\"][i]\n",
    "\n",
    "    # //*[@id=\"control_object_class1\"]/div/div[2]/div[2]/div[1]/table/tbody/tr[1]/td[2]/div/div/input\n",
    "    # <input type=\"text\" name=\"sec\" class=\"stylen2 inputModeDisabled input_width_1\" maxlength=\"6\" value=\"\">\n",
    "    xpath = '//*[@id=\"control_object_class1\"]/div/div[2]/div[2]/div[1]/table/tbody/tr[1]/td[2]/div/div/input'\n",
    "    box_id = driver.find_element_by_xpath(xpath)\n",
    "    box_id.clear()\n",
    "    box_id.send_keys(code)\n",
    "    time.sleep(2)\n",
    "\n",
    "    # //*[@id=\"sch\"]\n",
    "    # //*[@id=\"control_object_class1\"]/div/div[2]/div[2]/div[1]/table/tbody/tr[1]/td[2]/div/div/input\n",
    "    # //*[@id=\"sch\"]\n",
    "    xpath = '//*[@id=\"control_object_class1\"]/div/div[2]/div[2]/div[1]/table/tbody/tr[1]/td[2]/div/div/input'\n",
    "    box_sch = driver.find_element_by_id(\"sch\")\n",
    "    box_sch.click()\n",
    "    time.sleep(3)\n",
    "\n",
    "    #print(driver.current_url)\n",
    "    print(i)\n",
    "    df[\"url\"][i] = driver.current_url"
   ]
  },
  {
   "cell_type": "code",
   "execution_count": null,
   "metadata": {},
   "outputs": [],
   "source": [
    "df.to_csv(\"code_1_url.csv\")"
   ]
  },
  {
   "cell_type": "code",
   "execution_count": null,
   "metadata": {},
   "outputs": [],
   "source": []
  }
 ],
 "metadata": {
  "kernelspec": {
   "display_name": "Python 3",
   "language": "python",
   "name": "python3"
  },
  "language_info": {
   "codemirror_mode": {
    "name": "ipython",
    "version": 3
   },
   "file_extension": ".py",
   "mimetype": "text/x-python",
   "name": "python",
   "nbconvert_exporter": "python",
   "pygments_lexer": "ipython3",
   "version": "3.6.0"
  }
 },
 "nbformat": 4,
 "nbformat_minor": 2
}
