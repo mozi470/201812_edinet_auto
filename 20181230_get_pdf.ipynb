{
 "cells": [
  {
   "cell_type": "code",
   "execution_count": 21,
   "metadata": {},
   "outputs": [],
   "source": [
    "import pandas as pd\n",
    "import time\n",
    "from selenium import webdriver\n",
    "import os\n",
    "import urllib.request\n"
   ]
  },
  {
   "cell_type": "code",
   "execution_count": 83,
   "metadata": {},
   "outputs": [],
   "source": [
    "df = pd.read_csv(\"code_1_url.csv\")\n",
    "df = df.rename(columns={'提出者名（英字）': 'name_eng'})"
   ]
  },
  {
   "cell_type": "code",
   "execution_count": 84,
   "metadata": {},
   "outputs": [
    {
     "name": "stdout",
     "output_type": "stream",
     "text": [
      "/Users/s.takayanagi/Documents/201812_edinet_auto/pdf\n"
     ]
    }
   ],
   "source": [
    "path = os.getcwd() + \"/pdf\"\n",
    "print(path)"
   ]
  },
  {
   "cell_type": "code",
   "execution_count": 75,
   "metadata": {
    "scrolled": true
   },
   "outputs": [
    {
     "name": "stderr",
     "output_type": "stream",
     "text": [
      "/Users/s.takayanagi/Documents/env/lib/python3.6/site-packages/ipykernel_launcher.py:18: DeprecationWarning: use options instead of chrome_options\n"
     ]
    }
   ],
   "source": [
    "from selenium import webdriver\n",
    "from selenium.webdriver.chrome.options import Options\n",
    "\n",
    "chopt = webdriver.ChromeOptions()\n",
    "# chromeのviewerで開かず、現在のdirに保存\n",
    "prefs = {\"download.default_directory\" : os.getcwd() + \"/pdf\",\n",
    "         \"download.prompt_for_download\": False,\n",
    "         \"download.directory_upgrade\": True,\n",
    "         \"plugins.plugins_disabled\": [\"Chrome PDF Viewer\"],\n",
    "         \"plugins.always_open_pdf_externally\": True}\n",
    "chopt.add_experimental_option(\"prefs\",prefs)\n",
    "# SSLエラー対策らしい\n",
    "chopt.add_argument('--ignore-certificate-errors')\n",
    "chopt.add_argument(\"--disable-extensions\")\n",
    "chopt.add_argument(\"--disable-print-preview\")\n",
    "\n",
    "\n",
    "driver = webdriver.Chrome('/Users/s.takayanagi/Downloads/chromedriver', chrome_options=chopt)\n",
    "#driver.get(\"http://example.com/sample.pdf\")"
   ]
  },
  {
   "cell_type": "code",
   "execution_count": 93,
   "metadata": {},
   "outputs": [],
   "source": [
    "def create_driver(path):\n",
    "    from selenium import webdriver\n",
    "    from selenium.webdriver.chrome.options import Options\n",
    "\n",
    "    chopt = webdriver.ChromeOptions()\n",
    "    # chromeのviewerで開かず、現在のdirに保存\n",
    "    prefs = {\"download.default_directory\" : path,\n",
    "             \"download.prompt_for_download\": False,\n",
    "             \"download.directory_upgrade\": True,\n",
    "             \"plugins.plugins_disabled\": [\"Chrome PDF Viewer\"],\n",
    "             \"plugins.always_open_pdf_externally\": True}\n",
    "    chopt.add_experimental_option(\"prefs\",prefs)\n",
    "    # SSLエラー対策らしい\n",
    "    chopt.add_argument('--ignore-certificate-errors')\n",
    "    chopt.add_argument(\"--disable-extensions\")\n",
    "    chopt.add_argument(\"--disable-print-preview\")\n",
    "\n",
    "\n",
    "    driver = webdriver.Chrome('/Users/s.takayanagi/Downloads/chromedriver', chrome_options=chopt)\n",
    "    #driver.get(\"http://example.com/sample.pdf\")\n",
    "    \n",
    "    return driver"
   ]
  },
  {
   "cell_type": "markdown",
   "metadata": {},
   "source": [
    "### id"
   ]
  },
  {
   "cell_type": "code",
   "execution_count": 98,
   "metadata": {},
   "outputs": [
    {
     "name": "stderr",
     "output_type": "stream",
     "text": [
      "/Users/s.takayanagi/Documents/env/lib/python3.6/site-packages/ipykernel_launcher.py:19: DeprecationWarning: use options instead of chrome_options\n"
     ]
    },
    {
     "name": "stdout",
     "output_type": "stream",
     "text": [
      "カネコ種苗株式会社 10\n",
      "有価証券報告書－第71期(平成29年6月1日－平成30年5月31日)\n",
      "株式会社　サカタのタネ 13\n",
      "有価証券報告書－第77期(平成29年6月1日－平成30年5月31日)\n",
      "株式会社雪国まいたけ -1\n",
      "ホクト株式会社 59\n",
      "訂正有価証券報告書－第55期(平成29年4月1日－平成30年3月31日)\n",
      "訂正有価証券報告書－第54期(平成28年4月1日－平成29年3月31日)\n",
      "訂正有価証券報告書－第53期(平成27年4月1日－平成28年3月31日)\n",
      "有価証券報告書－第55期(平成29年4月1日－平成30年3月31日)\n",
      "株式会社アクシーズ 11\n",
      "有価証券報告書－第56期(平成29年7月1日－平成30年6月30日)\n",
      "株式会社ホーブ 10\n",
      "有価証券報告書－第32期(平成29年7月1日－平成30年6月30日)\n",
      "住友林業株式会社 25\n",
      "有価証券報告書－第78期(平成29年4月1日－平成30年3月31日)\n",
      "訂正有価証券報告書－第77期(平成28年4月1日－平成29年3月31日)\n",
      "株式会社　極洋 15\n",
      "有価証券報告書－第95期(平成29年4月1日－平成30年3月31日)\n",
      "株式会社マルハニチロ食品 -1\n",
      "日本水産株式会社 11\n",
      "有価証券報告書－第103期(平成29年4月1日－平成30年3月31日)\n"
     ]
    }
   ],
   "source": [
    "for i in range(10):\n",
    "    path = os.getcwd() + '/pdf/' + str(df[\"code\"][i]) +'_'+ str(df[\"name\"][i].replace('　',''))\n",
    "    driver = create_driver(path)\n",
    "    url = df[\"url\"][i]\n",
    "    driver.get(url)\n",
    "    \n",
    "    \n",
    "    # ... (省略) ...\n",
    "    # //*[@id=\"control_object_class1\"]/div/div[9]/table/tbody/tr[2]/td[2]/a\n",
    "    # //*[@id=\"control_object_class1\"]/div/div[9]/table/tbody/tr[3]/td[2]/a\n",
    "    # //*[@id=\"control_object_class1\"]/div/div[9]/table/tbody/tr[2]/td[6]/div/a/img\n",
    "    # //*[@id=\"control_object_class1\"]/div/div[9]/table/tbody/tr[7]/td[6]/div/a/img\n",
    "    \n",
    "    try:\n",
    "        xpath = '//*[@id=\"control_object_class1\"]/div/div[9]/table/tbody/tr'\n",
    "        items = driver.find_elements_by_xpath(xpath)\n",
    "        print(df['name'][i],len(items)-1)\n",
    "        \n",
    "    except:\n",
    "        print('None')\n",
    "        \n",
    "        \n",
    "    for j in range(2,len(items)+1):\n",
    "        try:\n",
    "            xpath = '//*[@id=\"control_object_class1\"]/div/div[9]/table/tbody/tr['+str(j)+']/td[2]/a'\n",
    "            item_name = driver.find_element_by_xpath(xpath).text\n",
    "            \n",
    "            # //*[@id=\"control_object_class1\"]/div/div[9]/table/tbody/tr[10]/td[6]/div/a/img\n",
    "            if ('有価証券報告書' in item_name)==True:\n",
    "                print(item_name)\n",
    "                xpath = '//*[@id=\"control_object_class1\"]/div/div[9]/table/tbody/tr['+str(j)+']/td[6]/div/a/img'\n",
    "                driver.find_element_by_xpath(xpath).click()\n",
    "                time.sleep(1)\n",
    "            else:\n",
    "                None\n",
    "        except:\n",
    "            None\n",
    "    \n",
    "    driver.close()\n",
    "    time.sleep(3)\n",
    "    "
   ]
  },
  {
   "cell_type": "code",
   "execution_count": null,
   "metadata": {},
   "outputs": [],
   "source": []
  },
  {
   "cell_type": "code",
   "execution_count": null,
   "metadata": {},
   "outputs": [],
   "source": []
  },
  {
   "cell_type": "code",
   "execution_count": null,
   "metadata": {},
   "outputs": [],
   "source": []
  }
 ],
 "metadata": {
  "kernelspec": {
   "display_name": "Python 3",
   "language": "python",
   "name": "python3"
  },
  "language_info": {
   "codemirror_mode": {
    "name": "ipython",
    "version": 3
   },
   "file_extension": ".py",
   "mimetype": "text/x-python",
   "name": "python",
   "nbconvert_exporter": "python",
   "pygments_lexer": "ipython3",
   "version": "3.6.0"
  }
 },
 "nbformat": 4,
 "nbformat_minor": 2
}
